{
  "nbformat": 4,
  "nbformat_minor": 0,
  "metadata": {
    "colab": {
      "provenance": []
    },
    "kernelspec": {
      "name": "python3",
      "display_name": "Python 3"
    },
    "language_info": {
      "name": "python"
    }
  },
  "cells": [
    {
      "cell_type": "code",
      "execution_count": 2,
      "metadata": {
        "id": "EAnVQ-oaaUFH"
      },
      "outputs": [],
      "source": [
        "import pandas as pd\n",
        "from sklearn.ensemble import RandomForestClassifier, IsolationForest\n",
        "from sklearn.svm import OneClassSVM\n",
        "from sklearn.model_selection import train_test_split\n",
        "from sklearn.preprocessing import LabelEncoder, StandardScaler\n",
        "import matplotlib.pyplot as plt\n",
        "import seaborn as sns\n"
      ]
    },
    {
      "cell_type": "code",
      "source": [
        "# CSV 파일 불러오기\n",
        "nsl_kdd_df = pd.read_csv('/content/Dummy_NSL-KDD_Data (1).csv')\n",
        "malicious_websites_df = pd.read_csv('/content/Dummy_Malicious_Websites_Data (1).csv')\n",
        "wifi_fingerprinting_df = pd.read_csv('/content/Dummy_WiFi_Fingerprinting_Data (2).csv')\n",
        "user_data_df = pd.read_csv('/content/user_data_with_credential.csv', encoding='EUC-KR')"
      ],
      "metadata": {
        "id": "dvof4HqqarHi"
      },
      "execution_count": 7,
      "outputs": []
    },
    {
      "cell_type": "code",
      "source": [
        "# WiFi Fingerprinting 데이터의 첫 5줄 확인\n",
        "print(wifi_fingerprinting_df.head())\n",
        "\n",
        "# 모든 열 이름 확인\n",
        "print(wifi_fingerprinting_df.columns)\n"
      ],
      "metadata": {
        "colab": {
          "base_uri": "https://localhost:8080/"
        },
        "id": "tgPJWPkhcCHN",
        "outputId": "5da52942-677b-45fc-fcd6-27045005ae67"
      },
      "execution_count": 9,
      "outputs": [
        {
          "output_type": "stream",
          "name": "stdout",
          "text": [
            "          r1         r2         r3         r4          x          y  \\\n",
            "0 -96.120055 -27.973208  -8.642199 -62.635918  53.303056  65.430632   \n",
            "1 -81.322747 -31.271700 -47.463952 -66.708790  13.789882   8.003257   \n",
            "2 -16.875419 -90.424580 -27.508973 -82.384609  59.124291  24.232981   \n",
            "3 -23.323164  -7.742760 -56.395170 -39.273333  31.478562  77.367935   \n",
            "4 -64.935731 -43.152780 -36.996542 -52.337584   5.234877  52.868585   \n",
            "\n",
            "             timestamp  \n",
            "0  2024-01-01 00:00:00  \n",
            "1  2024-01-01 00:01:00  \n",
            "2  2024-01-01 00:02:00  \n",
            "3  2024-01-01 00:03:00  \n",
            "4  2024-01-01 00:04:00  \n",
            "Index(['r1', 'r2', 'r3', 'r4', 'x', 'y', 'timestamp'], dtype='object')\n"
          ]
        }
      ]
    },
    {
      "cell_type": "code",
      "source": [
        "# 임의로 안전성 레이블 추가 (신호 강도에 기반한 가정)\n",
        "wifi_fingerprinting_df['safety_label'] = wifi_fingerprinting_df.apply(\n",
        "    lambda row: 1 if row['r1'] > -50 and row['r2'] > -50 and row['r3'] > -50 and row['r4'] > -50 else 0,\n",
        "    axis=1\n",
        ")\n",
        "\n",
        "# 결과 확인\n",
        "print(wifi_fingerprinting_df.head())\n"
      ],
      "metadata": {
        "colab": {
          "base_uri": "https://localhost:8080/"
        },
        "id": "pcvu-MwacIqp",
        "outputId": "ea2d717e-4b1a-47fc-f7f2-57e17e2f7130"
      },
      "execution_count": 10,
      "outputs": [
        {
          "output_type": "stream",
          "name": "stdout",
          "text": [
            "          r1         r2         r3         r4          x          y  \\\n",
            "0 -96.120055 -27.973208  -8.642199 -62.635918  53.303056  65.430632   \n",
            "1 -81.322747 -31.271700 -47.463952 -66.708790  13.789882   8.003257   \n",
            "2 -16.875419 -90.424580 -27.508973 -82.384609  59.124291  24.232981   \n",
            "3 -23.323164  -7.742760 -56.395170 -39.273333  31.478562  77.367935   \n",
            "4 -64.935731 -43.152780 -36.996542 -52.337584   5.234877  52.868585   \n",
            "\n",
            "             timestamp  safety_label  \n",
            "0  2024-01-01 00:00:00             0  \n",
            "1  2024-01-01 00:01:00             0  \n",
            "2  2024-01-01 00:02:00             0  \n",
            "3  2024-01-01 00:03:00             0  \n",
            "4  2024-01-01 00:04:00             0  \n"
          ]
        }
      ]
    },
    {
      "cell_type": "code",
      "source": [
        "# 데이터 분리\n",
        "X_wifi = wifi_fingerprinting_df.drop(['safety_label', 'timestamp'], axis=1)\n",
        "y_wifi = wifi_fingerprinting_df['safety_label']\n",
        "\n",
        "# 학습 및 평가를 위한 데이터 분할\n",
        "X_train_wifi, X_test_wifi, y_train_wifi, y_test_wifi = train_test_split(X_wifi, y_wifi, test_size=0.2, random_state=42)\n",
        "\n",
        "# RandomForestClassifier를 사용하여 모델 학습\n",
        "rf_classifier = RandomForestClassifier(n_estimators=100, random_state=42)\n",
        "rf_classifier.fit(X_train_wifi, y_train_wifi)\n",
        "\n",
        "# 테스트 데이터로 예측\n",
        "wifi_preds = rf_classifier.predict(X_test_wifi)\n",
        "\n",
        "# 간단한 평가\n",
        "from sklearn.metrics import classification_report\n",
        "\n",
        "print(classification_report(y_test_wifi, wifi_preds))\n"
      ],
      "metadata": {
        "colab": {
          "base_uri": "https://localhost:8080/"
        },
        "id": "MwQC1Mp4cJRC",
        "outputId": "fe0c5cb9-ab87-4361-bc2f-a311f4871ac9"
      },
      "execution_count": 11,
      "outputs": [
        {
          "output_type": "stream",
          "name": "stdout",
          "text": [
            "              precision    recall  f1-score   support\n",
            "\n",
            "           0       1.00      1.00      1.00       195\n",
            "           1       1.00      1.00      1.00         5\n",
            "\n",
            "    accuracy                           1.00       200\n",
            "   macro avg       1.00      1.00      1.00       200\n",
            "weighted avg       1.00      1.00      1.00       200\n",
            "\n"
          ]
        }
      ]
    },
    {
      "cell_type": "code",
      "source": [
        "import seaborn as sns\n",
        "import matplotlib.pyplot as plt\n",
        "\n",
        "# 안전성 분포 시각화\n",
        "sns.countplot(x='safety_label', data=wifi_fingerprinting_df)\n",
        "plt.title(\"WiFi Safety Distribution\")\n",
        "plt.xlabel(\"Safety Label\")\n",
        "plt.ylabel(\"Count\")\n",
        "plt.show()\n"
      ],
      "metadata": {
        "colab": {
          "base_uri": "https://localhost:8080/",
          "height": 472
        },
        "id": "AgXNOrjycLGE",
        "outputId": "c67ca6e3-ead6-4d5f-c9f6-74c7d51fdaf9"
      },
      "execution_count": 12,
      "outputs": [
        {
          "output_type": "display_data",
          "data": {
            "text/plain": [
              "<Figure size 640x480 with 1 Axes>"
            ],
            "image/png": "[encoded data removed]"
          },
          "metadata": {}
        }
      ]
    }
  ]
}